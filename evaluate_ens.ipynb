{
 "cells": [
  {
   "cell_type": "code",
   "execution_count": 1,
   "metadata": {},
   "outputs": [],
   "source": [
    "import os\n",
    "import sys\n",
    "import time\n",
    "import socket\n",
    "import random\n",
    "import argparse\n",
    "import importlib\n",
    "import scipy.misc\n",
    "import statistics \n",
    "import numpy as np\n",
    "import tensorflow as tf\n",
    "from scipy import stats\n",
    "import matplotlib.pyplot as plt\n",
    "from timeit import default_timer as timer\n",
    "%matplotlib inline\n",
    "\n",
    "# Append python path\n",
    "BASE_DIR = os.path.dirname(os.path.abspath('__file__'))\n",
    "sys.path.append(BASE_DIR)\n",
    "sys.path.append(os.path.join(BASE_DIR, 'utils'))\n",
    "sys.path.append(os.path.join(BASE_DIR, 'models'))\n",
    "\n",
    "# Import pointnet stuff\n",
    "import pc_util\n",
    "import provider"
   ]
  },
  {
   "cell_type": "markdown",
   "metadata": {},
   "source": [
    "# BASIC CONFIGURATION"
   ]
  },
  {
   "cell_type": "code",
   "execution_count": 2,
   "metadata": {},
   "outputs": [],
   "source": [
    "DATASET = 'modelnet'  # modelnet or shapenet\n",
    "\n",
    "# ModelNet40 official train/test split\n",
    "if DATASET == 'modelnet':\n",
    "    NUM_CLASSES = 40\n",
    "    LOGS_DIR = 'logs_modelnet'\n",
    "    SHAPE_NAMES = [line.rstrip() for line in open(os.path.join(BASE_DIR, 'data/modelnet40_ply_hdf5_2048/shape_names.txt'))] \n",
    "    TRAIN_FILES = provider.getDataFiles(os.path.join(BASE_DIR, 'data/modelnet40_ply_hdf5_2048/train_files.txt'))\n",
    "    TEST_FILES = provider.getDataFiles(os.path.join(BASE_DIR, 'data/modelnet40_ply_hdf5_2048/test_files.txt'))\n",
    "elif DATASET == 'shapenet'\n",
    "    NUM_CLASSES = 55\n",
    "    LOGS_DIR = 'logs_shapenet'\n",
    "    SHAPE_NAMES = [line.rstrip() for line in open(os.path.join(BASE_DIR, 'data/shapenet_core55_1024/shape_names.txt'))] \n",
    "    TRAIN_FILES = provider.getDataFiles(os.path.join(BASE_DIR, 'data/shapenet_core55_1024/train_files.txt'))\n",
    "    TEST_FILES = provider.getDataFiles(os.path.join(BASE_DIR, 'data/shapenet_core55_1024/test_files.txt'))\n",
    "    \n",
    "BATCH_SIZE = 192\n",
    "NUM_POINT = 1024\n",
    "GPU_INDEX = 0\n",
    "MODEL = importlib.import_module('pointnet_cls') # import network module\n",
    "DUMP_DIR = 'dump'\n",
    "VISUALIZATION = False\n",
    "if not os.path.exists(DUMP_DIR):\n",
    "    os.mkdir(DUMP_DIR)\n",
    "HOSTNAME = socket.gethostname()\n"
   ]
  },
  {
   "cell_type": "markdown",
   "metadata": {},
   "source": [
    "# EVALUATE ONE EPOCH METHOD\n",
    "\n",
    "Args:\n",
    "\n",
    "  **sess** - tf session\n",
    "  \n",
    "  **ops** - parameters\n",
    "  \n",
    "  \n",
    "\n",
    "Returns:\n",
    "\n",
    "  **loss** - mean classification loss\n",
    "  \n",
    "  **accuracy** - instance classification accuracy\n",
    "  \n",
    "  **class_accuracy** - class classification accuracy\n",
    "  \n",
    "  **predictions** - array of the output ofthe classification module with shape: (N, 40), where N is the test clouds len\n",
    "  \n",
    "  **true_labels** - true labels of test clouds with the lenght of N\n",
    "  "
   ]
  },
  {
   "cell_type": "code",
   "execution_count": 3,
   "metadata": {},
   "outputs": [],
   "source": [
    "def eval_one_epoch(sess, ops, num_votes=1, topk=1, verbose=False):\n",
    "    error_cnt = 0\n",
    "    is_training = False\n",
    "    total_correct = 0\n",
    "    total_seen = 0\n",
    "    loss_sum = 0\n",
    "    total_seen_class = [0 for _ in range(NUM_CLASSES)]\n",
    "    total_correct_class = [0 for _ in range(NUM_CLASSES)]\n",
    "    fout = open(os.path.join(DUMP_DIR, 'pred_label.txt'), 'w')\n",
    "    data_vals = []\n",
    "    pred_vals = []\n",
    "    true_vals = []\n",
    "    for fn in range(len(TEST_FILES)):\n",
    "        if verbose:\n",
    "            print('----'+str(fn)+'----')\n",
    "        current_data, current_label = provider.loadDataFile(TEST_FILES[fn])\n",
    "        current_data = current_data[:,0:NUM_POINT,:]\n",
    "        data_vals.append(np.copy(current_data))\n",
    "        current_label = np.squeeze(current_label)\n",
    "        \n",
    "        ###############################################################\n",
    "        # PAD DATA IF NEEDED\n",
    "        ###############################################################\n",
    "        \n",
    "        if len(current_label) % BATCH_SIZE != 0:\n",
    "            multpl = np.ceil(len(current_label)/ BATCH_SIZE)\n",
    "            how_many = int(multpl*BATCH_SIZE - len(current_label))\n",
    "            padded_label = np.pad(current_label, (0, how_many), 'edge')\n",
    "            padded_data = np.pad(current_data, ((0, how_many), (0,0), (0,0)), 'edge')\n",
    "        else:\n",
    "            padded_label = current_label\n",
    "            padded_data = current_data\n",
    "        num_batches = int(len(padded_label) / BATCH_SIZE)\n",
    "        \n",
    "        ###############################################################\n",
    "        # LOOP FOR EVERY BATCH (LAST BATCH COULD BE PADDED)\n",
    "        ###############################################################\n",
    "        for batch_idx in range(num_batches):\n",
    "            \n",
    "            # Indices\n",
    "            start_idx = batch_idx * BATCH_SIZE\n",
    "            end_idx = (batch_idx+1) * BATCH_SIZE\n",
    "            if len(padded_data) - len(current_data) and batch_idx == num_batches - 1:\n",
    "                cur_batch_size = len(current_data) % BATCH_SIZE\n",
    "            else:\n",
    "                cur_batch_size = BATCH_SIZE\n",
    "            \n",
    "            # Aggregating BEG\n",
    "            batch_loss_sum = 0 # sum of losses for the batch\n",
    "            batch_pred_sum = np.zeros((cur_batch_size, NUM_CLASSES)) # score for classes\n",
    "            batch_pred_classes = np.zeros((cur_batch_size, NUM_CLASSES)) # 0/1 for classes\n",
    "            \n",
    "            # Votes\n",
    "            for vote_idx in range(num_votes):\n",
    "                rotated_data = provider.rotate_point_cloud_by_angle(padded_data[start_idx:end_idx, :, :],\n",
    "                                                  vote_idx/float(num_votes) * np.pi * 2)\n",
    "                feed_dict = {ops['pointclouds_pl']: rotated_data,\n",
    "                             ops['labels_pl']: padded_label[start_idx:end_idx],\n",
    "                             ops['is_training_pl']: is_training}\n",
    "                loss_val, pred_val = sess.run([ops['loss'], ops['pred']],\n",
    "                                          feed_dict=feed_dict)\n",
    "                batch_pred_sum += pred_val[:cur_batch_size]\n",
    "                batch_pred_val = np.argmax(pred_val, 1)\n",
    "                for el_idx in range(cur_batch_size):\n",
    "                    batch_pred_classes[el_idx, batch_pred_val[el_idx]] += 1\n",
    "                batch_loss_sum += (loss_val * cur_batch_size / float(num_votes))\n",
    "\n",
    "            # DANIEL\n",
    "            pred_vals.append(batch_pred_sum.copy())\n",
    "            true_vals.append(padded_label[start_idx:start_idx+cur_batch_size].copy())\n",
    "        \n",
    "            # pred_valloss_sum_topk = np.argsort(batch_pred_sum, axis=-1)[:,-1*np.array(range(topk))-1]\n",
    "            # pred_val = np.argmax(batch_pred_classes, 1)\n",
    "            pred_val = np.argmax(batch_pred_sum, 1)\n",
    "            # Aggregating END\n",
    "            \n",
    "            correct = np.sum(pred_val == padded_label[start_idx:start_idx+cur_batch_size])\n",
    "            # correct = np.sum(pred_val_topk[:,0:topk] == label_val)\n",
    "            total_correct += correct\n",
    "            total_seen += cur_batch_size\n",
    "            loss_sum += batch_loss_sum\n",
    "\n",
    "            for i in range(start_idx, start_idx + cur_batch_size):\n",
    "                l = current_label[i]\n",
    "                total_seen_class[l] += 1\n",
    "                total_correct_class[l] += (pred_val[i-start_idx] == l)\n",
    "                fout.write('%d, %d\\n' % (pred_val[i-start_idx], l))\n",
    "                \n",
    "                if pred_val[i-start_idx] != l and VISUALIZATION: # ERROR CASE, DUMP!\n",
    "                    img_filename = '%d_label_%s_pred_%s.jpg' % (error_cnt, SHAPE_NAMES[l],\n",
    "                                                           SHAPE_NAMES[pred_val[i-start_idx]])\n",
    "                    img_filename = os.path.join(DUMP_DIR, img_filename)\n",
    "                    output_img = pc_util.point_cloud_three_views(np.squeeze(current_data[i, :, :]))\n",
    "                    scipy.misc.imsave(img_filename, output_img)\n",
    "                    error_cnt += 1\n",
    "    \n",
    "    eval_mean_loss = (loss_sum / float(total_seen))\n",
    "    eval_instance_acc = (total_correct / float(total_seen))\n",
    "    eval_class_acc = (np.mean(np.array(total_correct_class)/np.array(total_seen_class,dtype=np.float)))\n",
    "    \n",
    "    pred_vals = np.concatenate(pred_vals)\n",
    "    true_vals = np.concatenate(true_vals)\n",
    "    data_vals = np.concatenate(data_vals)\n",
    "    \n",
    "    if verbose:\n",
    "        print('eval mean loss: %f' % eval_mean_loss)\n",
    "        print('eval accuracy: %f' % eval_instance_acc)\n",
    "        print('eval avg class acc: %f' % eval_class_acc)\n",
    "    \n",
    "    class_accuracies = np.array(total_correct_class)/np.array(total_seen_class,dtype=np.float)\n",
    "    if verbose:\n",
    "        for i, name in enumerate(SHAPE_NAMES):\n",
    "            print('%10s:\\t%0.3f' % (name, class_accuracies[i]))\n",
    "            \n",
    "    return eval_mean_loss, eval_instance_acc, eval_class_acc, pred_vals, true_vals, data_vals"
   ]
  },
  {
   "cell_type": "markdown",
   "metadata": {},
   "source": [
    "# EVALUATE METHOD\n",
    "\n",
    "Args:\n",
    "\n",
    "  **model_num** - number of the pointnet model (i.e.: 3 to evaluate model_3.ckpt model)\n",
    "  \n",
    "  **num_votes** - how many votes (one vote is one pc rotation & permutation) should be used to eval the model\n",
    "\n",
    "Returns:\n",
    "\n",
    "  ** same as *eval_one_epoch* **"
   ]
  },
  {
   "cell_type": "code",
   "execution_count": 4,
   "metadata": {},
   "outputs": [],
   "source": [
    "def evaluate(model_num, num_votes=1, verbose=False):\n",
    "    is_training = False\n",
    "    \n",
    "    # Reset\n",
    "    tf.reset_default_graph()\n",
    "     \n",
    "    with tf.device('/GPU:'+str(GPU_INDEX)):\n",
    "        pointclouds_pl, labels_pl = MODEL.placeholder_inputs(BATCH_SIZE, NUM_POINT)\n",
    "        is_training_pl = tf.placeholder(tf.bool, shape=())\n",
    "\n",
    "        # simple model\n",
    "        pred, end_points = MODEL.get_model(pointclouds_pl, is_training_pl, num_classes=NUM_CLASSES)\n",
    "        loss = MODEL.get_loss(pred, labels_pl, end_points)\n",
    "\n",
    "        # Add ops to save and restore all the variables.\n",
    "        saver = tf.train.Saver()\n",
    "        \n",
    "    # Create a session\n",
    "    config = tf.ConfigProto()\n",
    "    config.gpu_options.allow_growth = True\n",
    "    config.allow_soft_placement = True\n",
    "    config.log_device_placement = True\n",
    "    sess = tf.Session(config=config)\n",
    "\n",
    "    # Get model path\n",
    "    model_path = os.path.join(LOGS_DIR + '/logs_' str(model_num), 'model.ckpt')\n",
    "    \n",
    "    # Restore variables from disk.\n",
    "    saver.restore(sess, model_path)\n",
    "    if verbose:\n",
    "        print(\"Model restored.\")\n",
    "\n",
    "    ops = {'pointclouds_pl': pointclouds_pl,\n",
    "           'labels_pl': labels_pl,\n",
    "           'is_training_pl': is_training_pl,\n",
    "           'pred': pred,\n",
    "           'loss': loss}\n",
    "\n",
    "    return eval_one_epoch(sess, ops, num_votes, verbose)"
   ]
  },
  {
   "cell_type": "code",
   "execution_count": 10,
   "metadata": {
    "scrolled": true
   },
   "outputs": [
    {
     "name": "stdout",
     "output_type": "stream",
     "text": [
      "INFO:tensorflow:Restoring parameters from logs_shapenet/log_1/model.ckpt\n",
      "acc = 0.8827835345565168 calc time [min] = 2.0421368139999987\n"
     ]
    }
   ],
   "source": [
    "start = timer()\n",
    "_, acc, _, _, labels, data = evaluate(model_num=1, num_votes=1, verbose=False)\n",
    "end = timer()\n",
    "print ('acc =', acc, 'calc time [min] =', (end-start)/60)"
   ]
  },
  {
   "cell_type": "code",
   "execution_count": 7,
   "metadata": {},
   "outputs": [],
   "source": [
    "np.save(LOGS_DIR + '/xdata.npy', data)"
   ]
  },
  {
   "cell_type": "markdown",
   "metadata": {},
   "source": [
    "# # # # # # # # # # # # # # # # # # # # # # # # # # #\n",
    "# NUM_VOTES TEST\n",
    "# # # # # # # # # # # # # # # # # # # # # # # # # # #"
   ]
  },
  {
   "cell_type": "code",
   "execution_count": 11,
   "metadata": {},
   "outputs": [
    {
     "name": "stdout",
     "output_type": "stream",
     "text": [
      "INFO:tensorflow:Restoring parameters from logs_shapenet/log_1/model.ckpt\n",
      "i = 1 x = 1 acc =  0.8827835345565168 calc time [min] = 2.032128428500012\n",
      "INFO:tensorflow:Restoring parameters from logs_shapenet/log_1/model.ckpt\n",
      "i = 1 x = 2 acc =  0.885160186329499 calc time [min] = 4.03951708655001\n",
      "INFO:tensorflow:Restoring parameters from logs_shapenet/log_1/model.ckpt\n",
      "i = 1 x = 3 acc =  0.885160186329499 calc time [min] = 6.032390051799999\n",
      "INFO:tensorflow:Restoring parameters from logs_shapenet/log_1/model.ckpt\n",
      "i = 1 x = 4 acc =  0.8849700541876604 calc time [min] = 8.041456444816655\n",
      "INFO:tensorflow:Restoring parameters from logs_shapenet/log_1/model.ckpt\n",
      "i = 1 x = 5 acc =  0.8855404506131762 calc time [min] = 10.053172142849993\n",
      "INFO:tensorflow:Restoring parameters from logs_shapenet/log_1/model.ckpt\n",
      "i = 1 x = 6 acc =  0.8859207148968533 calc time [min] = 12.057802031166679\n",
      "INFO:tensorflow:Restoring parameters from logs_shapenet/log_1/model.ckpt\n",
      "i = 1 x = 7 acc =  0.8856355166840955 calc time [min] = 14.047054045033352\n",
      "INFO:tensorflow:Restoring parameters from logs_shapenet/log_1/model.ckpt\n",
      "i = 1 x = 8 acc =  0.8854453845422569 calc time [min] = 16.05630403795\n",
      "INFO:tensorflow:Restoring parameters from logs_shapenet/log_1/model.ckpt\n",
      "i = 1 x = 9 acc =  0.8859207148968533 calc time [min] = 18.050431250650004\n",
      "INFO:tensorflow:Restoring parameters from logs_shapenet/log_1/model.ckpt\n",
      "i = 1 x = 10 acc =  0.8862059131096112 calc time [min] = 20.049230344366666\n",
      "INFO:tensorflow:Restoring parameters from logs_shapenet/log_1/model.ckpt\n",
      "i = 1 x = 11 acc =  0.8860157809677726 calc time [min] = 22.070529732366655\n",
      "INFO:tensorflow:Restoring parameters from logs_shapenet/log_1/model.ckpt\n",
      "i = 1 x = 12 acc =  0.8863009791805305 calc time [min] = 24.04599726848331\n",
      "INFO:tensorflow:Restoring parameters from logs_shapenet/log_1/model.ckpt\n",
      "i = 1 x = 13 acc =  0.8855404506131762 calc time [min] = 26.072716788050034\n",
      "INFO:tensorflow:Restoring parameters from logs_shapenet/log_1/model.ckpt\n",
      "i = 1 x = 14 acc =  0.8858256488259341 calc time [min] = 28.084811868783376\n",
      "INFO:tensorflow:Restoring parameters from logs_shapenet/log_1/model.ckpt\n",
      "i = 1 x = 15 acc =  0.8863960452514498 calc time [min] = 30.071390267233316\n",
      "INFO:tensorflow:Restoring parameters from logs_shapenet/log_2/model.ckpt\n",
      "i = 2 x = 1 acc =  0.8844947238330639 calc time [min] = 2.066646001983342\n",
      "INFO:tensorflow:Restoring parameters from logs_shapenet/log_2/model.ckpt\n",
      "i = 2 x = 2 acc =  0.8857305827550147 calc time [min] = 4.053437529366662\n",
      "INFO:tensorflow:Restoring parameters from logs_shapenet/log_2/model.ckpt\n",
      "i = 2 x = 3 acc =  0.8842095256203061 calc time [min] = 6.042370448383311\n",
      "INFO:tensorflow:Restoring parameters from logs_shapenet/log_2/model.ckpt\n",
      "i = 2 x = 4 acc =  0.8852552524004182 calc time [min] = 8.044859723383343\n",
      "INFO:tensorflow:Restoring parameters from logs_shapenet/log_2/model.ckpt\n",
      "i = 2 x = 5 acc =  0.8845897899039833 calc time [min] = 10.059901354383328\n",
      "INFO:tensorflow:Restoring parameters from logs_shapenet/log_2/model.ckpt\n",
      "i = 2 x = 6 acc =  0.8845897899039833 calc time [min] = 12.075256560716662\n",
      "INFO:tensorflow:Restoring parameters from logs_shapenet/log_2/model.ckpt\n",
      "i = 2 x = 7 acc =  0.8845897899039833 calc time [min] = 14.052092891100013\n",
      "INFO:tensorflow:Restoring parameters from logs_shapenet/log_2/model.ckpt\n",
      "i = 2 x = 8 acc =  0.8852552524004182 calc time [min] = 16.054002981266663\n",
      "INFO:tensorflow:Restoring parameters from logs_shapenet/log_2/model.ckpt\n",
      "i = 2 x = 9 acc =  0.8843045916912254 calc time [min] = 18.072113937700003\n",
      "INFO:tensorflow:Restoring parameters from logs_shapenet/log_2/model.ckpt\n",
      "i = 2 x = 10 acc =  0.8848749881167411 calc time [min] = 20.060822775033316\n",
      "INFO:tensorflow:Restoring parameters from logs_shapenet/log_2/model.ckpt\n",
      "i = 2 x = 11 acc =  0.8846848559749025 calc time [min] = 22.05027852851666\n",
      "INFO:tensorflow:Restoring parameters from logs_shapenet/log_2/model.ckpt\n",
      "i = 2 x = 12 acc =  0.8846848559749025 calc time [min] = 24.053864219549965\n",
      "INFO:tensorflow:Restoring parameters from logs_shapenet/log_2/model.ckpt\n",
      "i = 2 x = 13 acc =  0.8844947238330639 calc time [min] = 26.061745954583362\n",
      "INFO:tensorflow:Restoring parameters from logs_shapenet/log_2/model.ckpt\n",
      "i = 2 x = 14 acc =  0.8850651202585798 calc time [min] = 28.06167252806675\n",
      "INFO:tensorflow:Restoring parameters from logs_shapenet/log_2/model.ckpt\n",
      "i = 2 x = 15 acc =  0.8843996577621447 calc time [min] = 30.06768498458332\n"
     ]
    }
   ],
   "source": [
    "NUM_VOTES = 15\n",
    "RANGE_MODELS = range(1, 3)\n",
    "num_votes_accs = {i: [] for i in RANGE_MODELS}\n",
    "for i in num_votes_accs:\n",
    "    for x in range(1, NUM_VOTES+1):\n",
    "        start = timer()\n",
    "        _, acc, _, _, _, _ = evaluate(model_num=i, num_votes=x, verbose=False)\n",
    "        end = timer()\n",
    "        num_votes_accs[i].append(acc)\n",
    "        print ('i =', i, 'x =', x, 'acc = ', acc, 'calc time [min] =', (end-start)/60)"
   ]
  },
  {
   "cell_type": "code",
   "execution_count": 12,
   "metadata": {},
   "outputs": [
    {
     "data": {
      "image/png": "[encoded data removed]",
      "text/plain": [
       "<Figure size 432x288 with 1 Axes>"
      ]
     },
     "metadata": {
      "needs_background": "light"
     },
     "output_type": "display_data"
    }
   ],
   "source": [
    "for i in num_votes_accs:\n",
    "    plt.plot(np.arange(1, 1+len(num_votes_accs[i])), num_votes_accs[i])\n",
    "plt.savefig(LOGS_DIR + '/num_votes.png')"
   ]
  },
  {
   "cell_type": "markdown",
   "metadata": {},
   "source": [
    "# # # # # # # # # # # # # # # # # # # # # # # # #\n",
    "# MODEL ENSEMBLING \n",
    "# # # # # # # # # # # # # # # # # # # # # # # # #\n",
    "\n",
    "## Calculate probabilities for each test cloud and each model. The output probability array will be the shape of (N, NUM_CLASSES, X), where N is the test cloud len and X is the models count to be ensembled.\n"
   ]
  },
  {
   "cell_type": "code",
   "execution_count": 6,
   "metadata": {},
   "outputs": [
    {
     "name": "stdout",
     "output_type": "stream",
     "text": [
      "INFO:tensorflow:Restoring parameters from logs_shapenet/log_0/model.ckpt\n",
      "Model = 0 acc = 0.8747029185283772 time [min] = 24.04758900225\n",
      "INFO:tensorflow:Restoring parameters from logs_shapenet/log_1/model.ckpt\n",
      "Model = 1 acc = 0.8863009791805305 time [min] = 24.09609003128334\n",
      "INFO:tensorflow:Restoring parameters from logs_shapenet/log_2/model.ckpt\n",
      "Model = 2 acc = 0.8846848559749025 time [min] = 24.160206007233334\n",
      "INFO:tensorflow:Restoring parameters from logs_shapenet/log_3/model.ckpt\n",
      "Model = 3 acc = 0.885160186329499 time [min] = 24.218833024833323\n",
      "INFO:tensorflow:Restoring parameters from logs_shapenet/log_4/model.ckpt\n",
      "Model = 4 acc = 0.8865861773932884 time [min] = 24.270162222766672\n",
      "INFO:tensorflow:Restoring parameters from logs_shapenet/log_5/model.ckpt\n",
      "Model = 5 acc = 0.8861108470386919 time [min] = 24.140531683416672\n",
      "INFO:tensorflow:Restoring parameters from logs_shapenet/log_6/model.ckpt\n",
      "Model = 6 acc = 0.8849700541876604 time [min] = 24.08788911628335\n",
      "INFO:tensorflow:Restoring parameters from logs_shapenet/log_7/model.ckpt\n",
      "Model = 7 acc = 0.8842095256203061 time [min] = 24.09297381878332\n",
      "INFO:tensorflow:Restoring parameters from logs_shapenet/log_8/model.ckpt\n",
      "Model = 8 acc = 0.8856355166840955 time [min] = 24.098530487816667\n",
      "INFO:tensorflow:Restoring parameters from logs_shapenet/log_9/model.ckpt\n",
      "Model = 9 acc = 0.8842095256203061 time [min] = 24.10819429771667\n"
     ]
    }
   ],
   "source": [
    "NUM_MODELS = 10\n",
    "NUM_VOTES = 12\n",
    "probabilities = []\n",
    "true_labels = []\n",
    "accuracies = []\n",
    "for x in range(NUM_MODELS):\n",
    "    start = timer()\n",
    "    loss, instance_acc, class_acc, pred_vals, true_vals, data = evaluate(model_num=x, num_votes=NUM_VOTES, verbose=False)\n",
    "    end = timer()\n",
    "    probabilities.append(pred_vals)\n",
    "    accuracies.append(instance_acc)\n",
    "    true_labels = np.array(true_vals)\n",
    "    print ('Model =', x, 'acc =', instance_acc, 'time [min] =', (end-start)/60)\n",
    "    \n",
    "probabilities = np.stack(probabilities).transpose(1, 2, 0)\n",
    "accuracies = np.array(accuracies)"
   ]
  },
  {
   "cell_type": "code",
   "execution_count": 7,
   "metadata": {},
   "outputs": [],
   "source": [
    "np.save(LOGS_DIR + '/probabilities.npy', probabilities)\n",
    "np.save(LOGS_DIR + '/true_labels.npy', true_labels)\n",
    "np.save(LOGS_DIR + '/accuracies.npy', accuracies)"
   ]
  },
  {
   "cell_type": "markdown",
   "metadata": {},
   "source": [
    "# Models evaluation statistics"
   ]
  },
  {
   "cell_type": "code",
   "execution_count": 9,
   "metadata": {},
   "outputs": [
    {
     "name": "stdout",
     "output_type": "stream",
     "text": [
      "Mean accuracy = 0.8842570586557658\n",
      "Mean of validation max results = 0.8747351432880844\n",
      "Mean of test result for validation max = 0.8692531455961654\n"
     ]
    }
   ],
   "source": [
    "print('Mean accuracy =', statistics.mean(accuracies))\n",
    "indices = {}\n",
    "for k in range(40):\n",
    "    indices[k] = [i for i, x in enumerate(true_labels) if x == k]\n",
    "    \n",
    "validation_max_res = []\n",
    "test_res_at_validation_max = []\n",
    "\n",
    "for _ in range(1000):\n",
    "    validation_indices = []\n",
    "    test_indices = []\n",
    "    for k in indices:\n",
    "        random.shuffle(indices[k])\n",
    "        split_idx = int(len(indices[k])/2)\n",
    "        validation_indices += indices[k][:split_idx]\n",
    "        test_indices += indices[k][split_idx:]\n",
    "    validation_indices = sorted(validation_indices)\n",
    "    test_indices = sorted(test_indices)\n",
    "\n",
    "    validation_true_labels = true_labels[validation_indices]\n",
    "    validation_probabilities = probabilities[validation_indices]\n",
    "    test_true_labels = true_labels[test_indices]\n",
    "    test_probabilities = probabilities[test_indices]\n",
    "\n",
    "    validation_predictions = np.argmax(validation_probabilities, axis=1)\n",
    "    validation_compare = np.equal(validation_predictions, np.expand_dims(validation_true_labels, -1))\n",
    "    validation_accuracies = np.mean(validation_compare, axis=0)\n",
    "\n",
    "    test_predictions = np.argmax(test_probabilities, axis=1)\n",
    "    test_compare = np.equal(test_predictions, np.expand_dims(test_true_labels, -1))\n",
    "    test_accuracies = np.mean(test_compare, axis=0)\n",
    "\n",
    "    validation_max_res.append(np.max(validation_accuracies))\n",
    "    test_res_at_validation_max.append(test_accuracies[np.argmax(validation_accuracies)])\n",
    "    \n",
    "mean_valid_max = statistics.mean(validation_max_res)\n",
    "mean_test_at_valid_max = statistics.mean(test_res_at_validation_max)\n",
    "\n",
    "print('Mean of validation max results =', mean_valid_max)\n",
    "print('Mean of test result for validation max =', mean_test_at_valid_max)"
   ]
  },
  {
   "cell_type": "markdown",
   "metadata": {},
   "source": [
    "# Agregate the outputs with sum operation"
   ]
  },
  {
   "cell_type": "code",
   "execution_count": 10,
   "metadata": {},
   "outputs": [
    {
     "data": {
      "text/plain": [
       "0.8911493487974143"
      ]
     },
     "execution_count": 10,
     "metadata": {},
     "output_type": "execute_result"
    }
   ],
   "source": [
    "aggregated_probability = np.sum(probabilities, axis=-1)\n",
    "aggregated_predictions = np.argmax(aggregated_probability, axis=-1)\n",
    "float(np.sum(aggregated_predictions == true_labels)) / len(true_labels)"
   ]
  },
  {
   "cell_type": "markdown",
   "metadata": {},
   "source": [
    "# Agregate the outputs with mean operation"
   ]
  },
  {
   "cell_type": "code",
   "execution_count": 11,
   "metadata": {},
   "outputs": [
    {
     "data": {
      "text/plain": [
       "0.8911493487974143"
      ]
     },
     "execution_count": 11,
     "metadata": {},
     "output_type": "execute_result"
    }
   ],
   "source": [
    "aggregated_probability = np.mean(probabilities, axis=-1)\n",
    "aggregated_predictions = np.argmax(aggregated_probability, axis=-1)\n",
    "float(np.sum(aggregated_predictions == true_labels)) / len(true_labels)"
   ]
  },
  {
   "cell_type": "markdown",
   "metadata": {},
   "source": [
    "# Agregate the outputs with mode operation"
   ]
  },
  {
   "cell_type": "code",
   "execution_count": 12,
   "metadata": {},
   "outputs": [
    {
     "data": {
      "text/plain": [
       "0.8893430934499477"
      ]
     },
     "execution_count": 12,
     "metadata": {},
     "output_type": "execute_result"
    }
   ],
   "source": [
    "aggregated_predictions = np.argmax(probabilities, axis=1)\n",
    "aggregated_predictions =  np.squeeze(stats.mode(aggregated_predictions, axis=1)[0])\n",
    "float(np.sum(aggregated_predictions == true_labels)) / len(true_labels)"
   ]
  },
  {
   "cell_type": "code",
   "execution_count": null,
   "metadata": {},
   "outputs": [],
   "source": []
  }
 ],
 "metadata": {
  "kernelspec": {
   "display_name": "Python 3",
   "language": "python",
   "name": "python3"
  },
  "language_info": {
   "codemirror_mode": {
    "name": "ipython",
    "version": 3
   },
   "file_extension": ".py",
   "mimetype": "text/x-python",
   "name": "python",
   "nbconvert_exporter": "python",
   "pygments_lexer": "ipython3",
   "version": "3.5.2"
  }
 },
 "nbformat": 4,
 "nbformat_minor": 2
}

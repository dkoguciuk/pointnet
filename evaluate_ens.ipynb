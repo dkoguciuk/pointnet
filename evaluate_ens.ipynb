{
 "cells": [
  {
   "cell_type": "code",
   "execution_count": 71,
   "metadata": {},
   "outputs": [],
   "source": [
    "import os\n",
    "import sys\n",
    "import time\n",
    "import socket\n",
    "import argparse\n",
    "import importlib\n",
    "import scipy.misc\n",
    "import numpy as np\n",
    "import tensorflow as tf\n",
    "from scipy import stats\n",
    "import matplotlib.pyplot as plt\n",
    "\n",
    "# Append python path\n",
    "BASE_DIR = os.path.dirname(os.path.abspath('__file__'))\n",
    "sys.path.append(BASE_DIR)\n",
    "sys.path.append(os.path.join(BASE_DIR, 'utils'))\n",
    "sys.path.append(os.path.join(BASE_DIR, 'models'))\n",
    "\n",
    "# Import pointnet stuff\n",
    "import pc_util\n",
    "import provider"
   ]
  },
  {
   "cell_type": "markdown",
   "metadata": {},
   "source": [
    "# BASIC CONFIGURATION"
   ]
  },
  {
   "cell_type": "code",
   "execution_count": 48,
   "metadata": {
    "collapsed": true
   },
   "outputs": [],
   "source": [
    "BATCH_SIZE = 4\n",
    "NUM_POINT = 1024\n",
    "MODEL_DIR = 'log'\n",
    "GPU_INDEX = 0\n",
    "MODEL = importlib.import_module('pointnet_cls') # import network module\n",
    "DUMP_DIR = 'dump'\n",
    "VISUALIZATION = False\n",
    "if not os.path.exists(DUMP_DIR):\n",
    "    os.mkdir(DUMP_DIR)\n",
    "    \n",
    "\n",
    "HOSTNAME = socket.gethostname()\n",
    "NUM_CLASSES = 40\n",
    "SHAPE_NAMES = [line.rstrip() for line in \\\n",
    "    open(os.path.join(BASE_DIR, 'data/modelnet40_ply_hdf5_2048/shape_names.txt'))] \n",
    "\n",
    "# ModelNet40 official train/test split\n",
    "TRAIN_FILES = provider.getDataFiles( \\\n",
    "    os.path.join(BASE_DIR, 'data/modelnet40_ply_hdf5_2048/train_files.txt'))\n",
    "TEST_FILES = provider.getDataFiles(\\\n",
    "    os.path.join(BASE_DIR, 'data/modelnet40_ply_hdf5_2048/test_files.txt'))"
   ]
  },
  {
   "cell_type": "markdown",
   "metadata": {},
   "source": [
    "# EVALUATE ONE EPOCH METHOD\n",
    "\n",
    "Args:\n",
    "\n",
    "  **sess** - tf session\n",
    "  \n",
    "  **ops** - parameters\n",
    "  \n",
    "  \n",
    "\n",
    "Returns:\n",
    "\n",
    "  **loss** - mean classification loss\n",
    "  \n",
    "  **accuracy** - instance classification accuracy\n",
    "  \n",
    "  **class_accuracy** - class classification accuracy\n",
    "  \n",
    "  **predictions** - array of the output ofthe classification module with shape: (N, 40), where N is the test clouds len\n",
    "  \n",
    "  **true_labels** - true labels of test clouds with the lenght of N\n",
    "  "
   ]
  },
  {
   "cell_type": "code",
   "execution_count": 107,
   "metadata": {
    "collapsed": true
   },
   "outputs": [],
   "source": [
    "def eval_one_epoch(sess, ops, num_votes=1, topk=1, verbose=False):\n",
    "    error_cnt = 0\n",
    "    is_training = False\n",
    "    total_correct = 0\n",
    "    total_seen = 0\n",
    "    loss_sum = 0\n",
    "    total_seen_class = [0 for _ in range(NUM_CLASSES)]\n",
    "    total_correct_class = [0 for _ in range(NUM_CLASSES)]\n",
    "    fout = open(os.path.join(DUMP_DIR, 'pred_label.txt'), 'w')\n",
    "    pred_vals = []\n",
    "    true_vals = []\n",
    "    for fn in range(len(TEST_FILES)):\n",
    "        if verbose:\n",
    "            print('----'+str(fn)+'----')\n",
    "        current_data, current_label = provider.loadDataFile(TEST_FILES[fn])\n",
    "        current_data = current_data[:,0:NUM_POINT,:]\n",
    "        current_label = np.squeeze(current_label)\n",
    "        if verbose:\n",
    "            print(current_data.shape)\n",
    "        \n",
    "        file_size = current_data.shape[0]\n",
    "        num_batches = file_size // BATCH_SIZE\n",
    "        if verbose:\n",
    "            print(file_size)\n",
    "        \n",
    "        for batch_idx in range(num_batches):\n",
    "            start_idx = batch_idx * BATCH_SIZE\n",
    "            end_idx = (batch_idx+1) * BATCH_SIZE\n",
    "            cur_batch_size = end_idx - start_idx\n",
    "            \n",
    "            # Aggregating BEG\n",
    "            batch_loss_sum = 0 # sum of losses for the batch\n",
    "            batch_pred_sum = np.zeros((cur_batch_size, NUM_CLASSES)) # score for classes\n",
    "            batch_pred_classes = np.zeros((cur_batch_size, NUM_CLASSES)) # 0/1 for classes\n",
    "            for vote_idx in range(num_votes):\n",
    "                rotated_data = provider.rotate_point_cloud_by_angle(current_data[start_idx:end_idx, :, :],\n",
    "                                                  vote_idx/float(num_votes) * np.pi * 2)\n",
    "                feed_dict = {ops['pointclouds_pl']: rotated_data,\n",
    "                             ops['labels_pl']: current_label[start_idx:end_idx],\n",
    "                             ops['is_training_pl']: is_training}\n",
    "                loss_val, pred_val = sess.run([ops['loss'], ops['pred']],\n",
    "                                          feed_dict=feed_dict)\n",
    "                batch_pred_sum += pred_val\n",
    "                batch_pred_val = np.argmax(pred_val, 1)\n",
    "                for el_idx in range(cur_batch_size):\n",
    "                    batch_pred_classes[el_idx, batch_pred_val[el_idx]] += 1\n",
    "                batch_loss_sum += (loss_val * cur_batch_size / float(num_votes))\n",
    "                \n",
    "            # DANIEL\n",
    "            pred_vals.append(batch_pred_sum)\n",
    "            true_vals.append(current_label[start_idx:end_idx])\n",
    "        \n",
    "            # pred_val_topk = np.argsort(batch_pred_sum, axis=-1)[:,-1*np.array(range(topk))-1]\n",
    "            # pred_val = np.argmax(batch_pred_classes, 1)\n",
    "            pred_val = np.argmax(batch_pred_sum, 1)\n",
    "            # Aggregating END\n",
    "            \n",
    "            correct = np.sum(pred_val == current_label[start_idx:end_idx])\n",
    "            # correct = np.sum(pred_val_topk[:,0:topk] == label_val)\n",
    "            total_correct += correct\n",
    "            total_seen += cur_batch_size\n",
    "            loss_sum += batch_loss_sum\n",
    "\n",
    "            for i in range(start_idx, end_idx):\n",
    "                l = current_label[i]\n",
    "                total_seen_class[l] += 1\n",
    "                total_correct_class[l] += (pred_val[i-start_idx] == l)\n",
    "                fout.write('%d, %d\\n' % (pred_val[i-start_idx], l))\n",
    "                \n",
    "                if pred_val[i-start_idx] != l and VISUALIZATION: # ERROR CASE, DUMP!\n",
    "                    img_filename = '%d_label_%s_pred_%s.jpg' % (error_cnt, SHAPE_NAMES[l],\n",
    "                                                           SHAPE_NAMES[pred_val[i-start_idx]])\n",
    "                    img_filename = os.path.join(DUMP_DIR, img_filename)\n",
    "                    output_img = pc_util.point_cloud_three_views(np.squeeze(current_data[i, :, :]))\n",
    "                    scipy.misc.imsave(img_filename, output_img)\n",
    "                    error_cnt += 1\n",
    "    \n",
    "    eval_mean_loss = (loss_sum / float(total_seen))\n",
    "    eval_instance_acc = (total_correct / float(total_seen))\n",
    "    eval_class_acc = (np.mean(np.array(total_correct_class)/np.array(total_seen_class,dtype=np.float)))\n",
    "    \n",
    "    pred_vals = np.concatenate(pred_vals)\n",
    "    true_vals = np.concatenate(true_vals)\n",
    "    \n",
    "    if verbose:\n",
    "        print('eval mean loss: %f' % eval_mean_loss)\n",
    "        print('eval accuracy: %f' % eval_instance_acc)\n",
    "        print('eval avg class acc: %f' % eval_class_acc)\n",
    "    \n",
    "    class_accuracies = np.array(total_correct_class)/np.array(total_seen_class,dtype=np.float)\n",
    "    if verbose:\n",
    "        for i, name in enumerate(SHAPE_NAMES):\n",
    "            print('%10s:\\t%0.3f' % (name, class_accuracies[i]))\n",
    "            \n",
    "    return eval_mean_loss, eval_instance_acc, eval_class_acc, pred_vals, true_vals"
   ]
  },
  {
   "cell_type": "markdown",
   "metadata": {},
   "source": [
    "# EVALUATE METHOD\n",
    "\n",
    "Args:\n",
    "\n",
    "  **model_num** - number of the pointnet model (i.e.: 3 to evaluate model_3.ckpt model)\n",
    "  \n",
    "  **num_votes** - how many votes (one vote is one pc rotation & permutation) should be used to eval the model\n",
    "\n",
    "Returns:\n",
    "\n",
    "  ** same as *eval_one_epoch* **"
   ]
  },
  {
   "cell_type": "code",
   "execution_count": 50,
   "metadata": {
    "collapsed": true
   },
   "outputs": [],
   "source": [
    "def evaluate(model_num, num_votes, verbose=False):\n",
    "    is_training = False\n",
    "    \n",
    "    # Reset\n",
    "    tf.reset_default_graph()\n",
    "     \n",
    "    with tf.device('/gpu:'+str(GPU_INDEX)):\n",
    "        pointclouds_pl, labels_pl = MODEL.placeholder_inputs(BATCH_SIZE, NUM_POINT)\n",
    "        is_training_pl = tf.placeholder(tf.bool, shape=())\n",
    "\n",
    "        # simple model\n",
    "        pred, end_points = MODEL.get_model(pointclouds_pl, is_training_pl)\n",
    "        loss = MODEL.get_loss(pred, labels_pl, end_points)\n",
    "        \n",
    "        # Add ops to save and restore all the variables.\n",
    "        saver = tf.train.Saver()\n",
    "        \n",
    "    # Create a session\n",
    "    config = tf.ConfigProto()\n",
    "    config.gpu_options.allow_growth = True\n",
    "    config.allow_soft_placement = True\n",
    "    config.log_device_placement = True\n",
    "    sess = tf.Session(config=config)\n",
    "\n",
    "    # Get model path\n",
    "    model_path = os.path.join(MODEL_DIR, 'model_' + str(model_num) + '.ckpt')\n",
    "    \n",
    "    # Restore variables from disk.\n",
    "    saver.restore(sess, model_path)\n",
    "    if verbose:\n",
    "        print(\"Model restored.\")\n",
    "\n",
    "    ops = {'pointclouds_pl': pointclouds_pl,\n",
    "           'labels_pl': labels_pl,\n",
    "           'is_training_pl': is_training_pl,\n",
    "           'pred': pred,\n",
    "           'loss': loss}\n",
    "\n",
    "    return eval_one_epoch(sess, ops, num_votes, verbose)"
   ]
  },
  {
   "cell_type": "markdown",
   "metadata": {},
   "source": [
    "# # # # # # # # # # # # # # # # # # # # # # # # # # #\n",
    "# NUM_VOTES TEST\n",
    "# # # # # # # # # # # # # # # # # # # # # # # # # # #"
   ]
  },
  {
   "cell_type": "code",
   "execution_count": 58,
   "metadata": {},
   "outputs": [
    {
     "name": "stdout",
     "output_type": "stream",
     "text": [
      "INFO:tensorflow:Summary name classify loss is illegal; using classify_loss instead.\n",
      "INFO:tensorflow:Summary name mat loss is illegal; using mat_loss instead.\n",
      "INFO:tensorflow:Restoring parameters from log/model_1.ckpt\n",
      "('x=', 1, 'acc = ', 0.8869529983792545)\n",
      "INFO:tensorflow:Summary name classify loss is illegal; using classify_loss instead.\n",
      "INFO:tensorflow:Summary name mat loss is illegal; using mat_loss instead.\n",
      "INFO:tensorflow:Restoring parameters from log/model_1.ckpt\n",
      "('x=', 2, 'acc = ', 0.8881685575364667)\n",
      "INFO:tensorflow:Summary name classify loss is illegal; using classify_loss instead.\n",
      "INFO:tensorflow:Summary name mat loss is illegal; using mat_loss instead.\n",
      "INFO:tensorflow:Restoring parameters from log/model_1.ckpt\n",
      "('x=', 3, 'acc = ', 0.8885737439222042)\n",
      "INFO:tensorflow:Summary name classify loss is illegal; using classify_loss instead.\n",
      "INFO:tensorflow:Summary name mat loss is illegal; using mat_loss instead.\n",
      "INFO:tensorflow:Restoring parameters from log/model_1.ckpt\n",
      "('x=', 4, 'acc = ', 0.8905996758508914)\n",
      "INFO:tensorflow:Summary name classify loss is illegal; using classify_loss instead.\n",
      "INFO:tensorflow:Summary name mat loss is illegal; using mat_loss instead.\n",
      "INFO:tensorflow:Restoring parameters from log/model_1.ckpt\n",
      "('x=', 5, 'acc = ', 0.8893841166936791)\n",
      "INFO:tensorflow:Summary name classify loss is illegal; using classify_loss instead.\n",
      "INFO:tensorflow:Summary name mat loss is illegal; using mat_loss instead.\n",
      "INFO:tensorflow:Restoring parameters from log/model_1.ckpt\n",
      "('x=', 6, 'acc = ', 0.8893841166936791)\n",
      "INFO:tensorflow:Summary name classify loss is illegal; using classify_loss instead.\n",
      "INFO:tensorflow:Summary name mat loss is illegal; using mat_loss instead.\n",
      "INFO:tensorflow:Restoring parameters from log/model_1.ckpt\n",
      "('x=', 7, 'acc = ', 0.8905996758508914)\n",
      "INFO:tensorflow:Summary name classify loss is illegal; using classify_loss instead.\n",
      "INFO:tensorflow:Summary name mat loss is illegal; using mat_loss instead.\n",
      "INFO:tensorflow:Restoring parameters from log/model_1.ckpt\n",
      "('x=', 8, 'acc = ', 0.8918152350081038)\n",
      "INFO:tensorflow:Summary name classify loss is illegal; using classify_loss instead.\n",
      "INFO:tensorflow:Summary name mat loss is illegal; using mat_loss instead.\n",
      "INFO:tensorflow:Restoring parameters from log/model_1.ckpt\n",
      "('x=', 9, 'acc = ', 0.8910048622366289)\n",
      "INFO:tensorflow:Summary name classify loss is illegal; using classify_loss instead.\n",
      "INFO:tensorflow:Summary name mat loss is illegal; using mat_loss instead.\n",
      "INFO:tensorflow:Restoring parameters from log/model_1.ckpt\n",
      "('x=', 10, 'acc = ', 0.8905996758508914)\n",
      "INFO:tensorflow:Summary name classify loss is illegal; using classify_loss instead.\n",
      "INFO:tensorflow:Summary name mat loss is illegal; using mat_loss instead.\n",
      "INFO:tensorflow:Restoring parameters from log/model_1.ckpt\n",
      "('x=', 11, 'acc = ', 0.8897893030794165)\n",
      "INFO:tensorflow:Summary name classify loss is illegal; using classify_loss instead.\n",
      "INFO:tensorflow:Summary name mat loss is illegal; using mat_loss instead.\n",
      "INFO:tensorflow:Restoring parameters from log/model_1.ckpt\n",
      "('x=', 12, 'acc = ', 0.8893841166936791)\n",
      "INFO:tensorflow:Summary name classify loss is illegal; using classify_loss instead.\n",
      "INFO:tensorflow:Summary name mat loss is illegal; using mat_loss instead.\n",
      "INFO:tensorflow:Restoring parameters from log/model_1.ckpt\n",
      "('x=', 13, 'acc = ', 0.8897893030794165)\n",
      "INFO:tensorflow:Summary name classify loss is illegal; using classify_loss instead.\n",
      "INFO:tensorflow:Summary name mat loss is illegal; using mat_loss instead.\n",
      "INFO:tensorflow:Restoring parameters from log/model_1.ckpt\n",
      "('x=', 14, 'acc = ', 0.8897893030794165)\n"
     ]
    }
   ],
   "source": [
    "NUM_VOTES = 15\n",
    "num_votes_accs = []\n",
    "for x in range(1, NUM_VOTES+1):\n",
    "    _, acc, _, _, _ = evaluate(model_num=1, num_votes=x, verbose=False)\n",
    "    num_votes_accs.append(acc)\n",
    "    print ('x=', x, 'acc = ', acc)"
   ]
  },
  {
   "cell_type": "code",
   "execution_count": 59,
   "metadata": {},
   "outputs": [
    {
     "data": {
      "image/png": "[encoded data removed]",
      "text/plain": [
       "<matplotlib.figure.Figure at 0x7f4d80b71550>"
      ]
     },
     "metadata": {},
     "output_type": "display_data"
    }
   ],
   "source": [
    "NUM_VOTES = NUM_MODELS\n",
    "plt.plot(np.arange(1, NUM_VOTES +1), num_votes_accs)\n",
    "plt.show()pain"
   ]
  },
  {
   "cell_type": "markdown",
   "metadata": {},
   "source": [
    "# # # # # # # # # # # # # # # # # # # # # # # # #\n",
    "# MODEL ENSEMBLING \n",
    "# # # # # # # # # # # # # # # # # # # # # # # # #\n",
    "\n",
    "## Calculate probabilities for each test cloud and each model. The output probability array will be the shape of (N, 40, X), where N is the test cloud len and X is the models count to be ensembled.\n"
   ]
  },
  {
   "cell_type": "code",
   "execution_count": 109,
   "metadata": {},
   "outputs": [
    {
     "name": "stdout",
     "output_type": "stream",
     "text": [
      "INFO:tensorflow:Summary name classify loss is illegal; using classify_loss instead.\n",
      "INFO:tensorflow:Summary name mat loss is illegal; using mat_loss instead.\n",
      "INFO:tensorflow:Restoring parameters from log/model_1.ckpt\n",
      "('Model =', 1, 'acc = ', 0.8893841166936791)\n",
      "INFO:tensorflow:Summary name classify loss is illegal; using classify_loss instead.\n",
      "INFO:tensorflow:Summary name mat loss is illegal; using mat_loss instead.\n",
      "INFO:tensorflow:Restoring parameters from log/model_2.ckpt\n",
      "('Model =', 2, 'acc = ', 0.8869529983792545)\n",
      "INFO:tensorflow:Summary name classify loss is illegal; using classify_loss instead.\n",
      "INFO:tensorflow:Summary name mat loss is illegal; using mat_loss instead.\n",
      "INFO:tensorflow:Restoring parameters from log/model_3.ckpt\n",
      "('Model =', 3, 'acc = ', 0.8820907617504052)\n",
      "INFO:tensorflow:Summary name classify loss is illegal; using classify_loss instead.\n",
      "INFO:tensorflow:Summary name mat loss is illegal; using mat_loss instead.\n",
      "INFO:tensorflow:Restoring parameters from log/model_4.ckpt\n",
      "('Model =', 4, 'acc = ', 0.8780388978930308)\n"
     ]
    }
   ],
   "source": [
    "NUM_MODELS = 4\n",
    "NUM_VOTES = 5\n",
    "probabilities = []\n",
    "true_labels = []\n",
    "for x in range(1, NUM_MODELS+1):\n",
    "    _, acc, _, pred_vals, true_vals = evaluate(model_num=x, num_votes=NUM_VOTES, verbose=False)\n",
    "    probabilities.append(pred_vals)\n",
    "    true_labels = np.array(true_vals)\n",
    "    print ('Model =', x, 'acc = ', acc)\n",
    "    \n",
    "probabilities = np.stack(probabilities).transpose(1, 2, 0)"
   ]
  },
  {
   "cell_type": "markdown",
   "metadata": {},
   "source": [
    "# Agregate the outputs with sum operation"
   ]
  },
  {
   "cell_type": "code",
   "execution_count": 110,
   "metadata": {},
   "outputs": [
    {
     "data": {
      "text/plain": [
       "0.8926256077795786"
      ]
     },
     "execution_count": 110,
     "metadata": {},
     "output_type": "execute_result"
    }
   ],
   "source": [
    "aggregated_probability = np.sum(probabilities, axis=-1)\n",
    "aggregated_predictions = np.argmax(aggregated_probability, axis=-1)\n",
    "float(np.sum(aggregated_predictions == true_labels)) / len(true_labels)"
   ]
  },
  {
   "cell_type": "markdown",
   "metadata": {},
   "source": [
    "# Agregate the outputs with mean operation"
   ]
  },
  {
   "cell_type": "code",
   "execution_count": 111,
   "metadata": {},
   "outputs": [
    {
     "data": {
      "text/plain": [
       "0.8926256077795786"
      ]
     },
     "execution_count": 111,
     "metadata": {},
     "output_type": "execute_result"
    }
   ],
   "source": [
    "aggregated_probability = np.mean(probabilities, axis=-1)\n",
    "aggregated_predictions = np.argmax(aggregated_probability, axis=-1)\n",
    "float(np.sum(aggregated_predictions == true_labels)) / len(true_labels)"
   ]
  },
  {
   "cell_type": "markdown",
   "metadata": {},
   "source": [
    "# Agregate the outputs with mode operation"
   ]
  },
  {
   "cell_type": "code",
   "execution_count": 118,
   "metadata": {},
   "outputs": [
    {
     "data": {
      "text/plain": [
       "0.8873581847649918"
      ]
     },
     "execution_count": 118,
     "metadata": {},
     "output_type": "execute_result"
    }
   ],
   "source": [
    "aggregated_predictions = np.argmax(probabilities, axis=1)\n",
    "aggregated_predictions =  np.squeeze(stats.mode(aggregated_predictions, axis=1)[0])\n",
    "float(np.sum(aggregated_predictions == true_labels)) / len(true_labels)"
   ]
  },
  {
   "cell_type": "code",
   "execution_count": null,
   "metadata": {
    "collapsed": true
   },
   "outputs": [],
   "source": []
  }
 ],
 "metadata": {
  "kernelspec": {
   "display_name": "Python 3",
   "language": "python",
   "name": "python3"
  },
  "language_info": {
   "codemirror_mode": {
    "name": "ipython",
    "version": 2
   },
   "file_extension": ".py",
   "mimetype": "text/x-python",
   "name": "python",
   "nbconvert_exporter": "python",
   "pygments_lexer": "ipython2",
   "version": "2.7.12"
  }
 },
 "nbformat": 4,
 "nbformat_minor": 2
}
